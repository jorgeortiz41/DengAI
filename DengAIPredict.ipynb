{
  "nbformat": 4,
  "nbformat_minor": 0,
  "metadata": {
    "colab": {
      "name": "DengAIPredict.ipynb",
      "provenance": [],
      "collapsed_sections": [],
      "authorship_tag": "ABX9TyNn6T97+03y7Qhc59k1GaGY",
      "include_colab_link": true
    },
    "kernelspec": {
      "name": "python3",
      "display_name": "Python 3"
    }
  },
  "cells": [
    {
      "cell_type": "markdown",
      "metadata": {
        "id": "view-in-github",
        "colab_type": "text"
      },
      "source": [
        "<a href=\"https://colab.research.google.com/github/jorgeortiz41/DengAI/blob/master/DengAIPredict.ipynb\" target=\"_parent\"><img src=\"https://colab.research.google.com/assets/colab-badge.svg\" alt=\"Open In Colab\"/></a>"
      ]
    },
    {
      "cell_type": "code",
      "metadata": {
        "id": "aX7VwiMS-u37",
        "colab_type": "code",
        "colab": {}
      },
      "source": [
        "%matplotlib inline\n",
        "\n",
        "from __future__ import print_function\n",
        "from __future__ import division\n",
        "\n",
        "import pandas as pd\n",
        "import numpy as np\n",
        "\n",
        "from matplotlib import pyplot as plt\n",
        "import seaborn as sns\n",
        "\n",
        "from sklearn.model_selection import train_test_split\n",
        "import statsmodels.api as sm\n",
        "\n",
        "# just for the sake of this blog post!\n",
        "from warnings import filterwarnings\n",
        "filterwarnings('ignore')\n"
      ],
      "execution_count": null,
      "outputs": []
    },
    {
      "cell_type": "code",
      "metadata": {
        "id": "2Fuqwa5_r8kr",
        "colab_type": "code",
        "colab": {}
      },
      "source": [
        "from google.colab import drive\n",
        "drive.mount('/content/drive')"
      ],
      "execution_count": null,
      "outputs": []
    },
    {
      "cell_type": "code",
      "metadata": {
        "id": "6_0D_CeC_eG_",
        "colab_type": "code",
        "colab": {}
      },
      "source": [
        "# load the provided data\n",
        "train_features = pd.read_csv('/content/sample_data/dengue_features_train.csv',\n",
        "                             index_col=[0,1,2])\n",
        "\n",
        "train_labels = pd.read_csv('/content/sample_data/dengue_labels_train.csv',\n",
        "                           index_col=[0,1,2])"
      ],
      "execution_count": null,
      "outputs": []
    },
    {
      "cell_type": "code",
      "metadata": {
        "id": "S2O9IWXhiMbV",
        "colab_type": "code",
        "colab": {}
      },
      "source": [
        "def preprocess_data(data_path, labels_path=None):\n",
        "    # load data and set index to city, year, weekofyear\n",
        "    df = pd.read_csv(data_path, index_col=[0, 1, 2])\n",
        "    \n",
        "    # select features we want\n",
        "    features = ['reanalysis_specific_humidity_g_per_kg', \n",
        "                 'reanalysis_dew_point_temp_k', \n",
        "                 'station_avg_temp_c', \n",
        "                 'station_min_temp_c']\n",
        "    df = df[features]\n",
        "    \n",
        "    # fill missing values\n",
        "    df.fillna(method='ffill', inplace=True)\n",
        "\n",
        "    # add labels to dataframe\n",
        "    if labels_path:\n",
        "        labels = pd.read_csv(labels_path, index_col=[0, 1, 2])\n",
        "        df = df.join(labels)\n",
        "    \n",
        "    # separate san juan and iquitos\n",
        "    sj = df.loc['sj']\n",
        "    iq = df.loc['iq']\n",
        "    \n",
        "    return sj, iq"
      ],
      "execution_count": null,
      "outputs": []
    },
    {
      "cell_type": "code",
      "metadata": {
        "id": "-zmTOXPajZIO",
        "colab_type": "code",
        "colab": {}
      },
      "source": [
        "sj_train, iq_train = preprocess_data('/content/sample_data/dengue_features_train.csv','/content/sample_data/dengue_labels_train.csv')"
      ],
      "execution_count": null,
      "outputs": []
    },
    {
      "cell_type": "code",
      "metadata": {
        "id": "HtXkonmPj0Bf",
        "colab_type": "code",
        "colab": {
          "base_uri": "https://localhost:8080/",
          "height": 284
        },
        "outputId": "44bf50a9-a5ff-4918-983f-f5d80609bfce"
      },
      "source": [
        "sj_train.describe()"
      ],
      "execution_count": null,
      "outputs": [
        {
          "output_type": "execute_result",
          "data": {
            "text/html": [
              "<div>\n",
              "<style scoped>\n",
              "    .dataframe tbody tr th:only-of-type {\n",
              "        vertical-align: middle;\n",
              "    }\n",
              "\n",
              "    .dataframe tbody tr th {\n",
              "        vertical-align: top;\n",
              "    }\n",
              "\n",
              "    .dataframe thead th {\n",
              "        text-align: right;\n",
              "    }\n",
              "</style>\n",
              "<table border=\"1\" class=\"dataframe\">\n",
              "  <thead>\n",
              "    <tr style=\"text-align: right;\">\n",
              "      <th></th>\n",
              "      <th>reanalysis_specific_humidity_g_per_kg</th>\n",
              "      <th>reanalysis_dew_point_temp_k</th>\n",
              "      <th>station_avg_temp_c</th>\n",
              "      <th>station_min_temp_c</th>\n",
              "      <th>total_cases</th>\n",
              "    </tr>\n",
              "  </thead>\n",
              "  <tbody>\n",
              "    <tr>\n",
              "      <th>count</th>\n",
              "      <td>936.000000</td>\n",
              "      <td>936.000000</td>\n",
              "      <td>936.000000</td>\n",
              "      <td>936.000000</td>\n",
              "      <td>936.000000</td>\n",
              "    </tr>\n",
              "    <tr>\n",
              "      <th>mean</th>\n",
              "      <td>16.547535</td>\n",
              "      <td>295.104736</td>\n",
              "      <td>26.999191</td>\n",
              "      <td>22.594017</td>\n",
              "      <td>34.180556</td>\n",
              "    </tr>\n",
              "    <tr>\n",
              "      <th>std</th>\n",
              "      <td>1.560663</td>\n",
              "      <td>1.570075</td>\n",
              "      <td>1.415079</td>\n",
              "      <td>1.506281</td>\n",
              "      <td>51.381372</td>\n",
              "    </tr>\n",
              "    <tr>\n",
              "      <th>min</th>\n",
              "      <td>11.715714</td>\n",
              "      <td>289.642857</td>\n",
              "      <td>22.842857</td>\n",
              "      <td>17.800000</td>\n",
              "      <td>0.000000</td>\n",
              "    </tr>\n",
              "    <tr>\n",
              "      <th>25%</th>\n",
              "      <td>15.233571</td>\n",
              "      <td>293.843929</td>\n",
              "      <td>25.842857</td>\n",
              "      <td>21.700000</td>\n",
              "      <td>9.000000</td>\n",
              "    </tr>\n",
              "    <tr>\n",
              "      <th>50%</th>\n",
              "      <td>16.835000</td>\n",
              "      <td>295.451429</td>\n",
              "      <td>27.214286</td>\n",
              "      <td>22.800000</td>\n",
              "      <td>19.000000</td>\n",
              "    </tr>\n",
              "    <tr>\n",
              "      <th>75%</th>\n",
              "      <td>17.854286</td>\n",
              "      <td>296.415714</td>\n",
              "      <td>28.175000</td>\n",
              "      <td>23.900000</td>\n",
              "      <td>37.000000</td>\n",
              "    </tr>\n",
              "    <tr>\n",
              "      <th>max</th>\n",
              "      <td>19.440000</td>\n",
              "      <td>297.795714</td>\n",
              "      <td>30.071429</td>\n",
              "      <td>25.600000</td>\n",
              "      <td>461.000000</td>\n",
              "    </tr>\n",
              "  </tbody>\n",
              "</table>\n",
              "</div>"
            ],
            "text/plain": [
              "       reanalysis_specific_humidity_g_per_kg  ...  total_cases\n",
              "count                             936.000000  ...   936.000000\n",
              "mean                               16.547535  ...    34.180556\n",
              "std                                 1.560663  ...    51.381372\n",
              "min                                11.715714  ...     0.000000\n",
              "25%                                15.233571  ...     9.000000\n",
              "50%                                16.835000  ...    19.000000\n",
              "75%                                17.854286  ...    37.000000\n",
              "max                                19.440000  ...   461.000000\n",
              "\n",
              "[8 rows x 5 columns]"
            ]
          },
          "metadata": {
            "tags": []
          },
          "execution_count": 50
        }
      ]
    },
    {
      "cell_type": "code",
      "metadata": {
        "id": "FLUGIGIAj9Is",
        "colab_type": "code",
        "colab": {
          "base_uri": "https://localhost:8080/",
          "height": 284
        },
        "outputId": "a788f85e-c346-4913-96a9-f0c0bc3b31cb"
      },
      "source": [
        "iq_train.describe()"
      ],
      "execution_count": null,
      "outputs": [
        {
          "output_type": "execute_result",
          "data": {
            "text/html": [
              "<div>\n",
              "<style scoped>\n",
              "    .dataframe tbody tr th:only-of-type {\n",
              "        vertical-align: middle;\n",
              "    }\n",
              "\n",
              "    .dataframe tbody tr th {\n",
              "        vertical-align: top;\n",
              "    }\n",
              "\n",
              "    .dataframe thead th {\n",
              "        text-align: right;\n",
              "    }\n",
              "</style>\n",
              "<table border=\"1\" class=\"dataframe\">\n",
              "  <thead>\n",
              "    <tr style=\"text-align: right;\">\n",
              "      <th></th>\n",
              "      <th>reanalysis_specific_humidity_g_per_kg</th>\n",
              "      <th>reanalysis_dew_point_temp_k</th>\n",
              "      <th>station_avg_temp_c</th>\n",
              "      <th>station_min_temp_c</th>\n",
              "      <th>total_cases</th>\n",
              "    </tr>\n",
              "  </thead>\n",
              "  <tbody>\n",
              "    <tr>\n",
              "      <th>count</th>\n",
              "      <td>520.000000</td>\n",
              "      <td>520.000000</td>\n",
              "      <td>520.000000</td>\n",
              "      <td>520.000000</td>\n",
              "      <td>520.000000</td>\n",
              "    </tr>\n",
              "    <tr>\n",
              "      <th>mean</th>\n",
              "      <td>17.102019</td>\n",
              "      <td>295.498723</td>\n",
              "      <td>27.506331</td>\n",
              "      <td>21.210385</td>\n",
              "      <td>7.565385</td>\n",
              "    </tr>\n",
              "    <tr>\n",
              "      <th>std</th>\n",
              "      <td>1.443048</td>\n",
              "      <td>1.414360</td>\n",
              "      <td>0.908973</td>\n",
              "      <td>1.257734</td>\n",
              "      <td>10.765478</td>\n",
              "    </tr>\n",
              "    <tr>\n",
              "      <th>min</th>\n",
              "      <td>12.111429</td>\n",
              "      <td>290.088571</td>\n",
              "      <td>21.400000</td>\n",
              "      <td>14.700000</td>\n",
              "      <td>0.000000</td>\n",
              "    </tr>\n",
              "    <tr>\n",
              "      <th>25%</th>\n",
              "      <td>16.121429</td>\n",
              "      <td>294.596429</td>\n",
              "      <td>26.957500</td>\n",
              "      <td>20.600000</td>\n",
              "      <td>1.000000</td>\n",
              "    </tr>\n",
              "    <tr>\n",
              "      <th>50%</th>\n",
              "      <td>17.428571</td>\n",
              "      <td>295.852143</td>\n",
              "      <td>27.587500</td>\n",
              "      <td>21.400000</td>\n",
              "      <td>5.000000</td>\n",
              "    </tr>\n",
              "    <tr>\n",
              "      <th>75%</th>\n",
              "      <td>18.180357</td>\n",
              "      <td>296.557143</td>\n",
              "      <td>28.075000</td>\n",
              "      <td>22.000000</td>\n",
              "      <td>9.000000</td>\n",
              "    </tr>\n",
              "    <tr>\n",
              "      <th>max</th>\n",
              "      <td>20.461429</td>\n",
              "      <td>298.450000</td>\n",
              "      <td>30.800000</td>\n",
              "      <td>24.200000</td>\n",
              "      <td>116.000000</td>\n",
              "    </tr>\n",
              "  </tbody>\n",
              "</table>\n",
              "</div>"
            ],
            "text/plain": [
              "       reanalysis_specific_humidity_g_per_kg  ...  total_cases\n",
              "count                             520.000000  ...   520.000000\n",
              "mean                               17.102019  ...     7.565385\n",
              "std                                 1.443048  ...    10.765478\n",
              "min                                12.111429  ...     0.000000\n",
              "25%                                16.121429  ...     1.000000\n",
              "50%                                17.428571  ...     5.000000\n",
              "75%                                18.180357  ...     9.000000\n",
              "max                                20.461429  ...   116.000000\n",
              "\n",
              "[8 rows x 5 columns]"
            ]
          },
          "metadata": {
            "tags": []
          },
          "execution_count": 51
        }
      ]
    },
    {
      "cell_type": "code",
      "metadata": {
        "id": "InuTJAV7lrm7",
        "colab_type": "code",
        "colab": {}
      },
      "source": [
        "sj_train_subtrain = sj_train.head(800)\n",
        "sj_train_subtest = sj_train.tail(sj_train.shape[0] - 800)\n",
        "\n",
        "iq_train_subtrain = iq_train.head(400)\n",
        "iq_train_subtest = iq_train.tail(iq_train.shape[0] - 400)"
      ],
      "execution_count": null,
      "outputs": []
    },
    {
      "cell_type": "code",
      "metadata": {
        "id": "zMien4T-lxLT",
        "colab_type": "code",
        "colab": {
          "base_uri": "https://localhost:8080/",
          "height": 84
        },
        "outputId": "d9e34319-e8d7-45f5-9c4e-d96482e9c166"
      },
      "source": [
        "from statsmodels.tools import eval_measures\n",
        "import statsmodels.formula.api as smf\n",
        "\n",
        "def get_best_model(train, test):\n",
        "    # Step 1: specify the form of the model\n",
        "    model_formula = \"total_cases ~ 1 + \" \\\n",
        "                    \"reanalysis_specific_humidity_g_per_kg + \" \\\n",
        "                    \"reanalysis_dew_point_temp_k + \" \\\n",
        "                    \"station_min_temp_c + \" \\\n",
        "                    \"station_avg_temp_c\"\n",
        "    \n",
        "    grid = 10 ** np.arange(-8, -3, dtype=np.float64)\n",
        "                    \n",
        "    best_alpha = []\n",
        "    best_score = 1000\n",
        "        \n",
        "    # Step 2: Find the best hyper parameter, alpha\n",
        "    for alpha in grid:\n",
        "        model = smf.glm(formula=model_formula,\n",
        "                        data=train,\n",
        "                        family=sm.families.NegativeBinomial(alpha=alpha))\n",
        "\n",
        "        results = model.fit()\n",
        "        predictions = results.predict(test).astype(int)\n",
        "        score = eval_measures.meanabs(predictions, test.total_cases)\n",
        "\n",
        "        if score < best_score:\n",
        "            best_alpha = alpha\n",
        "            best_score = score\n",
        "\n",
        "    print('best alpha = ', best_alpha)\n",
        "    print('best score = ', best_score)\n",
        "            \n",
        "    # Step 3: refit on entire dataset\n",
        "    full_dataset = pd.concat([train, test])\n",
        "    model = smf.glm(formula=model_formula,\n",
        "                    data=full_dataset,\n",
        "                    family=sm.families.NegativeBinomial(alpha=best_alpha))\n",
        "\n",
        "    fitted_model = model.fit()\n",
        "    return fitted_model\n",
        "    \n",
        "sj_best_model = get_best_model(sj_train_subtrain, sj_train_subtest)\n",
        "iq_best_model = get_best_model(iq_train_subtrain, iq_train_subtest)"
      ],
      "execution_count": null,
      "outputs": [
        {
          "output_type": "stream",
          "text": [
            "best alpha =  1e-08\n",
            "best score =  22.080882352941178\n",
            "best alpha =  1e-08\n",
            "best score =  6.466666666666667\n"
          ],
          "name": "stdout"
        }
      ]
    },
    {
      "cell_type": "code",
      "metadata": {
        "id": "DcS6wekZmkNH",
        "colab_type": "code",
        "colab": {
          "base_uri": "https://localhost:8080/",
          "height": 325
        },
        "outputId": "5abe90b5-b205-4f0f-de3d-77c6897c73a2"
      },
      "source": [
        "figs, axes = plt.subplots(nrows=2, ncols=1)\n",
        "\n",
        "# plot sj\n",
        "sj_train['fitted'] = sj_best_model.fittedvalues\n",
        "sj_train.fitted.plot(ax=axes[0], label=\"Predictions\")\n",
        "sj_train.total_cases.plot(ax=axes[0], label=\"Actual\")\n",
        "\n",
        "# plot iq\n",
        "iq_train['fitted'] = iq_best_model.fittedvalues\n",
        "iq_train.fitted.plot(ax=axes[1], label=\"Predictions\")\n",
        "iq_train.total_cases.plot(ax=axes[1], label=\"Actual\")\n",
        "\n",
        "plt.suptitle(\"Dengue Predicted Cases vs. Actual Cases\")\n",
        "plt.legend()"
      ],
      "execution_count": null,
      "outputs": [
        {
          "output_type": "execute_result",
          "data": {
            "text/plain": [
              "<matplotlib.legend.Legend at 0x7f4dab2b56d8>"
            ]
          },
          "metadata": {
            "tags": []
          },
          "execution_count": 54
        },
        {
          "output_type": "display_data",
          "data": {
            "image/png": "[encoded data removed]",
            "text/plain": [
              "<Figure size 432x288 with 2 Axes>"
            ]
          },
          "metadata": {
            "tags": [],
            "needs_background": "light"
          }
        }
      ]
    },
    {
      "cell_type": "code",
      "metadata": {
        "id": "4_JLR3pUnjmt",
        "colab_type": "code",
        "colab": {}
      },
      "source": [
        "sj_test, iq_test = preprocess_data('/content/sample_data/dengue_features_test.csv', )\n",
        "\n",
        "sj_predictions = sj_best_model.predict(sj_test).astype(int)\n",
        "iq_predictions = iq_best_model.predict(iq_test).astype(int)\n",
        "\n",
        "submission = pd.read_csv(\"/content/sample_data/submission_format.csv\",\n",
        "                         index_col=[0, 1, 2])\n",
        "\n",
        "submission.total_cases = np.concatenate([sj_predictions, iq_predictions])\n",
        "submission.to_csv(\"/content/sample_data/benchmark.csv\")"
      ],
      "execution_count": null,
      "outputs": []
    }
  ]
}